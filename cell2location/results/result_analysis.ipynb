{
 "cells": [
  {
   "cell_type": "code",
   "execution_count": 1,
   "id": "4147bcf2",
   "metadata": {},
   "outputs": [],
   "source": [
    "import os\n",
    "import scanpy as sc"
   ]
  },
  {
   "cell_type": "code",
   "execution_count": 2,
   "id": "ef19bffa",
   "metadata": {},
   "outputs": [],
   "source": [
    "slides = [\n",
    "    \"17P04394\",\n",
    "    \"18P06762\",\n",
    "    \"18P08140\",\n",
    "    \"18P06593\",\n",
    "    \"18P03122\",\n",
    "    \"18P02831\",\n",
    "    \"17P02529\",\n",
    "]"
   ]
  },
  {
   "cell_type": "code",
   "execution_count": 3,
   "id": "5a8473bd",
   "metadata": {},
   "outputs": [
    {
     "name": "stdout",
     "output_type": "stream",
     "text": [
      "17P04394:13\n",
      "18P06762:7\n",
      "18P08140:10\n",
      "18P06593:5\n",
      "18P03122:13\n",
      "18P02831:13\n",
      "17P02529:15\n"
     ]
    }
   ],
   "source": [
    "for slide in slides:\n",
    "    nuc_segm_dir = (\n",
    "        \"/home/agathes/work/results/spatialscope_deconv/third_run/deconv_normalised\"\n",
    "    )\n",
    "    nuc_segm_dir = os.path.join(nuc_segm_dir, slide, \"sp_adata_ns.h5ad\")\n",
    "    sp_nuc_adata = sc.read_h5ad(nuc_segm_dir)\n",
    "    N_cells_spot_nuc_seg = round(sp_nuc_adata.obs[\"cell_count\"].mean())\n",
    "    print(f\"{slide}:{N_cells_spot_nuc_seg}\")"
   ]
  }
 ],
 "metadata": {
  "kernelspec": {
   "display_name": "SpatialScope",
   "language": "python",
   "name": "python3"
  },
  "language_info": {
   "codemirror_mode": {
    "name": "ipython",
    "version": 3
   },
   "file_extension": ".py",
   "mimetype": "text/x-python",
   "name": "python",
   "nbconvert_exporter": "python",
   "pygments_lexer": "ipython3",
   "version": "3.9.15"
  }
 },
 "nbformat": 4,
 "nbformat_minor": 5
}
